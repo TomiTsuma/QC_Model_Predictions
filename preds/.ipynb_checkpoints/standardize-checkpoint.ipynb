{
 "cells": [
  {
   "cell_type": "code",
   "execution_count": 1,
   "id": "62f204e3",
   "metadata": {},
   "outputs": [],
   "source": [
    "import pandas as pd\n",
    "import numpy as np"
   ]
  },
  {
   "cell_type": "code",
   "execution_count": 2,
   "id": "3d7e9e7f",
   "metadata": {},
   "outputs": [],
   "source": [
    "clay = pd.read_csv(\"clay.csv\")\n",
    "sand = pd.read_csv(\"sand.csv\")\n",
    "silt = pd.read_csv(\"silt.csv\")"
   ]
  },
  {
   "cell_type": "code",
   "execution_count": 5,
   "id": "2af88375",
   "metadata": {},
   "outputs": [
    {
     "data": {
      "text/html": [
       "<div>\n",
       "<style scoped>\n",
       "    .dataframe tbody tr th:only-of-type {\n",
       "        vertical-align: middle;\n",
       "    }\n",
       "\n",
       "    .dataframe tbody tr th {\n",
       "        vertical-align: top;\n",
       "    }\n",
       "\n",
       "    .dataframe thead th {\n",
       "        text-align: right;\n",
       "    }\n",
       "</style>\n",
       "<table border=\"1\" class=\"dataframe\">\n",
       "  <thead>\n",
       "    <tr style=\"text-align: right;\">\n",
       "      <th></th>\n",
       "      <th>Unnamed: 0</th>\n",
       "      <th>0</th>\n",
       "    </tr>\n",
       "  </thead>\n",
       "  <tbody>\n",
       "    <tr>\n",
       "      <th>0</th>\n",
       "      <td>CA236SA0279</td>\n",
       "      <td>27.569168</td>\n",
       "    </tr>\n",
       "    <tr>\n",
       "      <th>1</th>\n",
       "      <td>CA236SA0280</td>\n",
       "      <td>22.948435</td>\n",
       "    </tr>\n",
       "    <tr>\n",
       "      <th>2</th>\n",
       "      <td>CA236SA0281</td>\n",
       "      <td>14.565222</td>\n",
       "    </tr>\n",
       "    <tr>\n",
       "      <th>3</th>\n",
       "      <td>CA236SA0282</td>\n",
       "      <td>37.740500</td>\n",
       "    </tr>\n",
       "    <tr>\n",
       "      <th>4</th>\n",
       "      <td>CA236SA0283</td>\n",
       "      <td>38.161034</td>\n",
       "    </tr>\n",
       "    <tr>\n",
       "      <th>...</th>\n",
       "      <td>...</td>\n",
       "      <td>...</td>\n",
       "    </tr>\n",
       "    <tr>\n",
       "      <th>997</th>\n",
       "      <td>CA236SA1279</td>\n",
       "      <td>49.372112</td>\n",
       "    </tr>\n",
       "    <tr>\n",
       "      <th>998</th>\n",
       "      <td>CA236SA1280</td>\n",
       "      <td>47.368027</td>\n",
       "    </tr>\n",
       "    <tr>\n",
       "      <th>999</th>\n",
       "      <td>CA236SA1281</td>\n",
       "      <td>69.889470</td>\n",
       "    </tr>\n",
       "    <tr>\n",
       "      <th>1000</th>\n",
       "      <td>CA236SA1282</td>\n",
       "      <td>68.784730</td>\n",
       "    </tr>\n",
       "    <tr>\n",
       "      <th>1001</th>\n",
       "      <td>CA236SA1283</td>\n",
       "      <td>63.876102</td>\n",
       "    </tr>\n",
       "  </tbody>\n",
       "</table>\n",
       "<p>1002 rows × 2 columns</p>\n",
       "</div>"
      ],
      "text/plain": [
       "       Unnamed: 0          0\n",
       "0     CA236SA0279  27.569168\n",
       "1     CA236SA0280  22.948435\n",
       "2     CA236SA0281  14.565222\n",
       "3     CA236SA0282  37.740500\n",
       "4     CA236SA0283  38.161034\n",
       "...           ...        ...\n",
       "997   CA236SA1279  49.372112\n",
       "998   CA236SA1280  47.368027\n",
       "999   CA236SA1281  69.889470\n",
       "1000  CA236SA1282  68.784730\n",
       "1001  CA236SA1283  63.876102\n",
       "\n",
       "[1002 rows x 2 columns]"
      ]
     },
     "execution_count": 5,
     "metadata": {},
     "output_type": "execute_result"
    }
   ],
   "source": [
    "clay"
   ]
  },
  {
   "cell_type": "code",
   "execution_count": 6,
   "id": "6b2a2b8f",
   "metadata": {},
   "outputs": [],
   "source": [
    "combs_sample_code = clay['Unnamed: 0']"
   ]
  },
  {
   "cell_type": "code",
   "execution_count": 7,
   "id": "816a2acd",
   "metadata": {},
   "outputs": [],
   "source": [
    "combs_psa = pd.DataFrame()"
   ]
  },
  {
   "cell_type": "code",
   "execution_count": 8,
   "id": "3df088b3",
   "metadata": {},
   "outputs": [],
   "source": [
    "combs_psa['sand'] = sand['0']\n",
    "combs_psa['clay'] = clay['0']\n",
    "combs_psa['silt'] = silt['0']\n",
    "combs_psa['sum_psa'] = sand['0'] + clay['0'] + silt['0']"
   ]
  },
  {
   "cell_type": "code",
   "execution_count": 9,
   "id": "aa7a1a94",
   "metadata": {},
   "outputs": [
    {
     "data": {
      "text/html": [
       "<div>\n",
       "<style scoped>\n",
       "    .dataframe tbody tr th:only-of-type {\n",
       "        vertical-align: middle;\n",
       "    }\n",
       "\n",
       "    .dataframe tbody tr th {\n",
       "        vertical-align: top;\n",
       "    }\n",
       "\n",
       "    .dataframe thead th {\n",
       "        text-align: right;\n",
       "    }\n",
       "</style>\n",
       "<table border=\"1\" class=\"dataframe\">\n",
       "  <thead>\n",
       "    <tr style=\"text-align: right;\">\n",
       "      <th></th>\n",
       "      <th>sand</th>\n",
       "      <th>clay</th>\n",
       "      <th>silt</th>\n",
       "      <th>sum_psa</th>\n",
       "    </tr>\n",
       "  </thead>\n",
       "  <tbody>\n",
       "    <tr>\n",
       "      <th>0</th>\n",
       "      <td>45.869820</td>\n",
       "      <td>27.569168</td>\n",
       "      <td>23.548487</td>\n",
       "      <td>96.987475</td>\n",
       "    </tr>\n",
       "    <tr>\n",
       "      <th>1</th>\n",
       "      <td>59.092220</td>\n",
       "      <td>22.948435</td>\n",
       "      <td>17.605011</td>\n",
       "      <td>99.645666</td>\n",
       "    </tr>\n",
       "    <tr>\n",
       "      <th>2</th>\n",
       "      <td>70.467636</td>\n",
       "      <td>14.565222</td>\n",
       "      <td>14.763381</td>\n",
       "      <td>99.796239</td>\n",
       "    </tr>\n",
       "    <tr>\n",
       "      <th>3</th>\n",
       "      <td>48.640240</td>\n",
       "      <td>37.740500</td>\n",
       "      <td>13.342650</td>\n",
       "      <td>99.723390</td>\n",
       "    </tr>\n",
       "    <tr>\n",
       "      <th>4</th>\n",
       "      <td>43.473892</td>\n",
       "      <td>38.161034</td>\n",
       "      <td>15.619398</td>\n",
       "      <td>97.254324</td>\n",
       "    </tr>\n",
       "    <tr>\n",
       "      <th>...</th>\n",
       "      <td>...</td>\n",
       "      <td>...</td>\n",
       "      <td>...</td>\n",
       "      <td>...</td>\n",
       "    </tr>\n",
       "    <tr>\n",
       "      <th>997</th>\n",
       "      <td>32.807300</td>\n",
       "      <td>49.372112</td>\n",
       "      <td>15.406889</td>\n",
       "      <td>97.586301</td>\n",
       "    </tr>\n",
       "    <tr>\n",
       "      <th>998</th>\n",
       "      <td>37.279070</td>\n",
       "      <td>47.368027</td>\n",
       "      <td>13.899653</td>\n",
       "      <td>98.546750</td>\n",
       "    </tr>\n",
       "    <tr>\n",
       "      <th>999</th>\n",
       "      <td>16.146902</td>\n",
       "      <td>69.889470</td>\n",
       "      <td>12.776826</td>\n",
       "      <td>98.813198</td>\n",
       "    </tr>\n",
       "    <tr>\n",
       "      <th>1000</th>\n",
       "      <td>15.456429</td>\n",
       "      <td>68.784730</td>\n",
       "      <td>14.257312</td>\n",
       "      <td>98.498471</td>\n",
       "    </tr>\n",
       "    <tr>\n",
       "      <th>1001</th>\n",
       "      <td>18.783424</td>\n",
       "      <td>63.876102</td>\n",
       "      <td>14.541251</td>\n",
       "      <td>97.200777</td>\n",
       "    </tr>\n",
       "  </tbody>\n",
       "</table>\n",
       "<p>1002 rows × 4 columns</p>\n",
       "</div>"
      ],
      "text/plain": [
       "           sand       clay       silt    sum_psa\n",
       "0     45.869820  27.569168  23.548487  96.987475\n",
       "1     59.092220  22.948435  17.605011  99.645666\n",
       "2     70.467636  14.565222  14.763381  99.796239\n",
       "3     48.640240  37.740500  13.342650  99.723390\n",
       "4     43.473892  38.161034  15.619398  97.254324\n",
       "...         ...        ...        ...        ...\n",
       "997   32.807300  49.372112  15.406889  97.586301\n",
       "998   37.279070  47.368027  13.899653  98.546750\n",
       "999   16.146902  69.889470  12.776826  98.813198\n",
       "1000  15.456429  68.784730  14.257312  98.498471\n",
       "1001  18.783424  63.876102  14.541251  97.200777\n",
       "\n",
       "[1002 rows x 4 columns]"
      ]
     },
     "execution_count": 9,
     "metadata": {},
     "output_type": "execute_result"
    }
   ],
   "source": [
    "combs_psa"
   ]
  },
  {
   "cell_type": "code",
   "execution_count": 10,
   "id": "822e0fe7",
   "metadata": {},
   "outputs": [],
   "source": [
    "for col in combs_psa.columns:\n",
    "    if col =='sum_psa':\n",
    "        pass\n",
    "    else:\n",
    "        combs_psa[col] = (combs_psa[col]/combs_psa['sum_psa']) * 100\n",
    "        \n",
    "combs_psa.drop('sum_psa', axis=1, inplace=True)"
   ]
  },
  {
   "cell_type": "code",
   "execution_count": 11,
   "id": "3c3ed194",
   "metadata": {
    "scrolled": true
   },
   "outputs": [
    {
     "data": {
      "text/plain": [
       "0       100.0\n",
       "1       100.0\n",
       "2       100.0\n",
       "3       100.0\n",
       "4       100.0\n",
       "        ...  \n",
       "997     100.0\n",
       "998     100.0\n",
       "999     100.0\n",
       "1000    100.0\n",
       "1001    100.0\n",
       "Length: 1002, dtype: float64"
      ]
     },
     "execution_count": 11,
     "metadata": {},
     "output_type": "execute_result"
    }
   ],
   "source": [
    "combs_psa['sand'] + combs_psa['clay'] + combs_psa['silt']"
   ]
  },
  {
   "cell_type": "code",
   "execution_count": 12,
   "id": "32ecdc55",
   "metadata": {},
   "outputs": [],
   "source": [
    "combs_psa['sample_code'] = combs_sample_code"
   ]
  },
  {
   "cell_type": "code",
   "execution_count": 13,
   "id": "60b7c89c",
   "metadata": {},
   "outputs": [],
   "source": [
    "combs_psa.to_csv(\"psa.csv\")"
   ]
  },
  {
   "cell_type": "code",
   "execution_count": null,
   "id": "1e1e9fe0",
   "metadata": {},
   "outputs": [],
   "source": []
  }
 ],
 "metadata": {
  "kernelspec": {
   "display_name": "Python 3 (ipykernel)",
   "language": "python",
   "name": "python3"
  },
  "language_info": {
   "codemirror_mode": {
    "name": "ipython",
    "version": 3
   },
   "file_extension": ".py",
   "mimetype": "text/x-python",
   "name": "python",
   "nbconvert_exporter": "python",
   "pygments_lexer": "ipython3",
   "version": "3.10.7"
  }
 },
 "nbformat": 4,
 "nbformat_minor": 5
}
